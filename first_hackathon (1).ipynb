{
  "cells": [
    {
      "cell_type": "markdown",
      "metadata": {
        "id": "Ne6DGFyc0B9c"
      },
      "source": [
        "## Importing Libraries:"
      ]
    },
    {
      "cell_type": "code",
      "execution_count": null,
      "metadata": {
        "id": "hqDxwQ58slst"
      },
      "outputs": [],
      "source": [
        "import numpy as np\n",
        "import pandas as pd\n",
        "import matplotlib.pyplot as plt\n",
        "import seaborn as sns"
      ]
    },
    {
      "cell_type": "markdown",
      "metadata": {
        "id": "vRmyeEjj0Isx"
      },
      "source": [
        "## Reading The Files:"
      ]
    },
    {
      "cell_type": "code",
      "execution_count": null,
      "metadata": {
        "id": "Mc9jjtcus9gP"
      },
      "outputs": [],
      "source": [
        "data_train = pd.read_csv(\"train_data.csv\") \n",
        "prod_price = pd.read_csv(\"product_prices.csv\")\n",
        "date_week= pd.read_csv(\"date_to_week_id_map.csv\")\n",
        "data_test= pd.read_csv(\"test_data.csv\") "
      ]
    },
    {
      "cell_type": "markdown",
      "metadata": {
        "id": "CFA_5Q1J0Lq8"
      },
      "source": [
        "## Data Exploration:"
      ]
    },
    {
      "cell_type": "code",
      "execution_count": null,
      "metadata": {
        "id": "k-eOVjrJUQ7y"
      },
      "outputs": [],
      "source": [
        "print(data_train.shape)\n",
        "print(data_test.shape)"
      ]
    },
    {
      "cell_type": "code",
      "execution_count": null,
      "metadata": {
        "id": "IVclp5XrUQ7y"
      },
      "outputs": [],
      "source": [
        "data_train.shape\n",
        "data_test.shape"
      ]
    },
    {
      "cell_type": "code",
      "execution_count": null,
      "metadata": {
        "colab": {
          "base_uri": "https://localhost:8080/",
          "height": 112
        },
        "id": "VTt8c1F0tAGG",
        "outputId": "92e2fb9f-72eb-4f1a-c954-2c97d9ec6c63"
      },
      "outputs": [
        {
          "data": {
            "text/html": [
              "<div>\n",
              "<style scoped>\n",
              "    .dataframe tbody tr th:only-of-type {\n",
              "        vertical-align: middle;\n",
              "    }\n",
              "\n",
              "    .dataframe tbody tr th {\n",
              "        vertical-align: top;\n",
              "    }\n",
              "\n",
              "    .dataframe thead th {\n",
              "        text-align: right;\n",
              "    }\n",
              "</style>\n",
              "<table border=\"1\" class=\"dataframe\">\n",
              "  <thead>\n",
              "    <tr style=\"text-align: right;\">\n",
              "      <th></th>\n",
              "      <th>date</th>\n",
              "      <th>product_identifier</th>\n",
              "      <th>department_identifier</th>\n",
              "      <th>category_of_product</th>\n",
              "      <th>outlet</th>\n",
              "      <th>state</th>\n",
              "      <th>sales</th>\n",
              "    </tr>\n",
              "  </thead>\n",
              "  <tbody>\n",
              "    <tr>\n",
              "      <th>0</th>\n",
              "      <td>2012-01-01</td>\n",
              "      <td>74</td>\n",
              "      <td>11</td>\n",
              "      <td>others</td>\n",
              "      <td>111</td>\n",
              "      <td>Maharashtra</td>\n",
              "      <td>0</td>\n",
              "    </tr>\n",
              "    <tr>\n",
              "      <th>1</th>\n",
              "      <td>2012-01-01</td>\n",
              "      <td>337</td>\n",
              "      <td>11</td>\n",
              "      <td>others</td>\n",
              "      <td>111</td>\n",
              "      <td>Maharashtra</td>\n",
              "      <td>1</td>\n",
              "    </tr>\n",
              "  </tbody>\n",
              "</table>\n",
              "</div>"
            ],
            "text/plain": [
              "         date  product_identifier  department_identifier category_of_product  \\\n",
              "0  2012-01-01                  74                     11              others   \n",
              "1  2012-01-01                 337                     11              others   \n",
              "\n",
              "   outlet        state  sales  \n",
              "0     111  Maharashtra      0  \n",
              "1     111  Maharashtra      1  "
            ]
          },
          "execution_count": 11,
          "metadata": {},
          "output_type": "execute_result"
        }
      ],
      "source": [
        "data_train.head()"
      ]
    },
    {
      "cell_type": "code",
      "execution_count": null,
      "metadata": {
        "id": "KPQd6PC-UQ70",
        "outputId": "9d8b60b5-1638-4515-8aee-87339c76095e"
      },
      "outputs": [
        {
          "data": {
            "text/html": [
              "<div>\n",
              "<style scoped>\n",
              "    .dataframe tbody tr th:only-of-type {\n",
              "        vertical-align: middle;\n",
              "    }\n",
              "\n",
              "    .dataframe tbody tr th {\n",
              "        vertical-align: top;\n",
              "    }\n",
              "\n",
              "    .dataframe thead th {\n",
              "        text-align: right;\n",
              "    }\n",
              "</style>\n",
              "<table border=\"1\" class=\"dataframe\">\n",
              "  <thead>\n",
              "    <tr style=\"text-align: right;\">\n",
              "      <th></th>\n",
              "      <th>id</th>\n",
              "      <th>date</th>\n",
              "      <th>product_identifier</th>\n",
              "      <th>department_identifier</th>\n",
              "      <th>category_of_product</th>\n",
              "      <th>outlet</th>\n",
              "      <th>state</th>\n",
              "    </tr>\n",
              "  </thead>\n",
              "  <tbody>\n",
              "    <tr>\n",
              "      <th>0</th>\n",
              "      <td>1</td>\n",
              "      <td>2014-03-01</td>\n",
              "      <td>74</td>\n",
              "      <td>11</td>\n",
              "      <td>others</td>\n",
              "      <td>111</td>\n",
              "      <td>Maharashtra</td>\n",
              "    </tr>\n",
              "    <tr>\n",
              "      <th>1</th>\n",
              "      <td>2</td>\n",
              "      <td>2014-03-01</td>\n",
              "      <td>337</td>\n",
              "      <td>11</td>\n",
              "      <td>others</td>\n",
              "      <td>111</td>\n",
              "      <td>Maharashtra</td>\n",
              "    </tr>\n",
              "    <tr>\n",
              "      <th>2</th>\n",
              "      <td>3</td>\n",
              "      <td>2014-03-01</td>\n",
              "      <td>423</td>\n",
              "      <td>12</td>\n",
              "      <td>others</td>\n",
              "      <td>111</td>\n",
              "      <td>Maharashtra</td>\n",
              "    </tr>\n",
              "  </tbody>\n",
              "</table>\n",
              "</div>"
            ],
            "text/plain": [
              "   id        date  product_identifier  department_identifier  \\\n",
              "0   1  2014-03-01                  74                     11   \n",
              "1   2  2014-03-01                 337                     11   \n",
              "2   3  2014-03-01                 423                     12   \n",
              "\n",
              "  category_of_product  outlet        state  \n",
              "0              others     111  Maharashtra  \n",
              "1              others     111  Maharashtra  \n",
              "2              others     111  Maharashtra  "
            ]
          },
          "execution_count": 12,
          "metadata": {},
          "output_type": "execute_result"
        }
      ],
      "source": [
        "data_test.head()"
      ]
    },
    {
      "cell_type": "markdown",
      "metadata": {
        "id": "8NC5KsB682nk"
      },
      "source": [
        "## Understanding the data using basic visualization:"
      ]
    },
    {
      "cell_type": "code",
      "execution_count": null,
      "metadata": {
        "id": "XfYeqQ0T8Cgu"
      },
      "outputs": [],
      "source": [
        "x = data_train['category_of_product']\n",
        "y = data_train['sales']"
      ]
    },
    {
      "cell_type": "code",
      "execution_count": null,
      "metadata": {
        "colab": {
          "base_uri": "https://localhost:8080/",
          "height": 586
        },
        "id": "aTp1ybSB8bpw",
        "outputId": "cade6c2f-ea6a-40e6-85e1-8e51f89df515"
      },
      "outputs": [
        {
          "data": {
            "text/plain": [
              "Text(0, 0.5, 'sales')"
            ]
          },
          "execution_count": 14,
          "metadata": {},
          "output_type": "execute_result"
        },
        {
          "data": {
            "image/png": "[encoded data removed]",
            "text/plain": [
              "<Figure size 1152x648 with 1 Axes>"
            ]
          },
          "metadata": {
            "needs_background": "light"
          },
          "output_type": "display_data"
        }
      ],
      "source": [
        "plt.figure(figsize=(16,9))\n",
        "plt.scatter(x,y,c='r',marker='*',s=100,alpha=0.5)\n",
        "plt.title('Relation between Sales and cat_of_products')\n",
        "plt.xlabel('category of product')\n",
        "plt.ylabel('sales') "
      ]
    },
    {
      "cell_type": "code",
      "execution_count": null,
      "metadata": {
        "id": "Epau3QGS9AqC"
      },
      "outputs": [],
      "source": [
        "x1 = data_train['state']\n",
        "y1= data_train['sales']"
      ]
    },
    {
      "cell_type": "code",
      "execution_count": null,
      "metadata": {
        "id": "-VRyUfOp9Mdf",
        "outputId": "20dcdc32-7362-40c0-da7b-84221a611e14"
      },
      "outputs": [
        {
          "data": {
            "text/plain": [
              "Text(0, 0.5, 'sales')"
            ]
          },
          "execution_count": 16,
          "metadata": {},
          "output_type": "execute_result"
        },
        {
          "data": {
            "image/png": "[encoded data removed]",
            "text/plain": [
              "<Figure size 1152x648 with 1 Axes>"
            ]
          },
          "metadata": {
            "needs_background": "light"
          },
          "output_type": "display_data"
        }
      ],
      "source": [
        "plt.figure(figsize=(16,9))\n",
        "plt.scatter(x1,y1,c='g',marker='*',s=100,alpha=0.5)\n",
        "plt.title('Relation between Sales and states')\n",
        "plt.xlabel('states')\n",
        "plt.ylabel('sales') "
      ]
    },
    {
      "cell_type": "markdown",
      "metadata": {
        "id": "C4ZNHU_j1Fk6"
      },
      "source": [
        "## Merging two csv files:"
      ]
    },
    {
      "cell_type": "code",
      "execution_count": null,
      "metadata": {
        "id": "Vw1Bg_A5tDlp",
        "colab": {
          "base_uri": "https://localhost:8080/",
          "height": 190
        },
        "outputId": "63062704-d5db-46d2-c7c5-b8118eeecc00"
      },
      "outputs": [
        {
          "output_type": "error",
          "ename": "NameError",
          "evalue": "ignored",
          "traceback": [
            "\u001b[0;31m---------------------------------------------------------------------------\u001b[0m",
            "\u001b[0;31mNameError\u001b[0m                                 Traceback (most recent call last)",
            "\u001b[0;32m<ipython-input-1-70b02ea4f5a9>\u001b[0m in \u001b[0;36m<module>\u001b[0;34m\u001b[0m\n\u001b[1;32m      1\u001b[0m \u001b[0;31m## Merging the prod_price and date_week\u001b[0m\u001b[0;34m\u001b[0m\u001b[0;34m\u001b[0m\u001b[0;34m\u001b[0m\u001b[0m\n\u001b[0;32m----> 2\u001b[0;31m \u001b[0mmerged_data\u001b[0m\u001b[0;34m=\u001b[0m\u001b[0mpd\u001b[0m\u001b[0;34m.\u001b[0m\u001b[0mmerge\u001b[0m\u001b[0;34m(\u001b[0m\u001b[0mprod_price\u001b[0m\u001b[0;34m,\u001b[0m\u001b[0mdate_week\u001b[0m\u001b[0;34m,\u001b[0m\u001b[0mon\u001b[0m\u001b[0;34m=\u001b[0m\u001b[0;34m[\u001b[0m\u001b[0;34m'week_id'\u001b[0m\u001b[0;34m]\u001b[0m\u001b[0;34m,\u001b[0m\u001b[0mhow\u001b[0m\u001b[0;34m=\u001b[0m\u001b[0;34m'inner'\u001b[0m\u001b[0;34m)\u001b[0m\u001b[0;34m\u001b[0m\u001b[0;34m\u001b[0m\u001b[0m\n\u001b[0m",
            "\u001b[0;31mNameError\u001b[0m: name 'pd' is not defined"
          ]
        }
      ],
      "source": [
        "## Merging the prod_price and date_week\n",
        "merged_data=pd.merge(prod_price,date_week,on=['week_id'],how='inner') "
      ]
    },
    {
      "cell_type": "markdown",
      "metadata": {
        "id": "N10b6XGrGs77"
      },
      "source": [
        "### Basic Summary Statistics:"
      ]
    },
    {
      "cell_type": "code",
      "execution_count": null,
      "metadata": {
        "id": "WdiLOJgDGeL-"
      },
      "outputs": [],
      "source": [
        "merged_data.describe(include = 'all') "
      ]
    },
    {
      "cell_type": "markdown",
      "metadata": {
        "id": "gfdoAARG120_"
      },
      "source": [
        "### Exploring the merged data:"
      ]
    },
    {
      "cell_type": "code",
      "execution_count": null,
      "metadata": {
        "id": "prG_lmQ9tQOS"
      },
      "outputs": [],
      "source": [
        "merged_data.head()"
      ]
    },
    {
      "cell_type": "code",
      "execution_count": null,
      "metadata": {
        "id": "7mI4bkvMtSDe"
      },
      "outputs": [],
      "source": [
        "## merging the merged_data and data_train:\n",
        "train_data_merge=pd.merge(merged_data,data_train,on=['date','product_identifier','outlet'],how='inner') \n",
        "test_data_merge=pd.merge(merged_data,data_test,on=['date','product_identifier','outlet'],how='inner') "
      ]
    },
    {
      "cell_type": "code",
      "execution_count": null,
      "metadata": {
        "id": "iixh5qhUtZnp"
      },
      "outputs": [],
      "source": [
        "train_data_merge.head() "
      ]
    },
    {
      "cell_type": "code",
      "execution_count": null,
      "metadata": {
        "id": "fa5rSIv5to0M"
      },
      "outputs": [],
      "source": [
        "test_data_merge.head()"
      ]
    },
    {
      "cell_type": "code",
      "execution_count": null,
      "metadata": {
        "id": "4lvcHvn-tw39"
      },
      "outputs": [],
      "source": [
        "train_data_merge.shape"
      ]
    },
    {
      "cell_type": "code",
      "execution_count": null,
      "metadata": {
        "id": "HXGSZwF4t0r2"
      },
      "outputs": [],
      "source": [
        "test_data_merge.shape"
      ]
    },
    {
      "cell_type": "code",
      "execution_count": null,
      "metadata": {
        "id": "WmTGdsIIt9RM"
      },
      "outputs": [],
      "source": [
        "train_data_merge.dtypes"
      ]
    },
    {
      "cell_type": "code",
      "execution_count": null,
      "metadata": {
        "id": "mfcx2M6ZuDI_"
      },
      "outputs": [],
      "source": [
        "test_data_merge.dtypes"
      ]
    },
    {
      "cell_type": "code",
      "execution_count": null,
      "metadata": {
        "id": "tGFT3-SsuLd5"
      },
      "outputs": [],
      "source": [
        "train_data_merge.nunique()\n",
        "\n"
      ]
    },
    {
      "cell_type": "code",
      "execution_count": null,
      "metadata": {
        "id": "_YtRjVw0uTy_"
      },
      "outputs": [],
      "source": [
        "test_data_merge.nunique()"
      ]
    },
    {
      "cell_type": "markdown",
      "metadata": {
        "id": "K6WOFcbf2dSI"
      },
      "source": [
        "## Data Preprocessing:"
      ]
    },
    {
      "cell_type": "code",
      "execution_count": null,
      "metadata": {
        "colab": {
          "base_uri": "https://localhost:8080/",
          "height": 423
        },
        "id": "Z3kG_EpguXVR",
        "outputId": "5611a20c-e3cc-4bd8-9930-2b74c25fb4d4"
      },
      "outputs": [
        {
          "data": {
            "text/html": [
              "<div>\n",
              "<style scoped>\n",
              "    .dataframe tbody tr th:only-of-type {\n",
              "        vertical-align: middle;\n",
              "    }\n",
              "\n",
              "    .dataframe tbody tr th {\n",
              "        vertical-align: top;\n",
              "    }\n",
              "\n",
              "    .dataframe thead th {\n",
              "        text-align: right;\n",
              "    }\n",
              "</style>\n",
              "<table border=\"1\" class=\"dataframe\">\n",
              "  <thead>\n",
              "    <tr style=\"text-align: right;\">\n",
              "      <th></th>\n",
              "      <th>outlet</th>\n",
              "      <th>product_identifier</th>\n",
              "      <th>week_id</th>\n",
              "      <th>sell_price</th>\n",
              "      <th>date</th>\n",
              "      <th>department_identifier</th>\n",
              "      <th>category_of_product</th>\n",
              "      <th>state</th>\n",
              "    </tr>\n",
              "  </thead>\n",
              "  <tbody>\n",
              "    <tr>\n",
              "      <th>0</th>\n",
              "      <td>111</td>\n",
              "      <td>74</td>\n",
              "      <td>162</td>\n",
              "      <td>3.43</td>\n",
              "      <td>2014-03-01</td>\n",
              "      <td>11</td>\n",
              "      <td>others</td>\n",
              "      <td>Maharashtra</td>\n",
              "    </tr>\n",
              "    <tr>\n",
              "      <th>1</th>\n",
              "      <td>111</td>\n",
              "      <td>74</td>\n",
              "      <td>162</td>\n",
              "      <td>3.43</td>\n",
              "      <td>2014-03-02</td>\n",
              "      <td>11</td>\n",
              "      <td>others</td>\n",
              "      <td>Maharashtra</td>\n",
              "    </tr>\n",
              "    <tr>\n",
              "      <th>2</th>\n",
              "      <td>111</td>\n",
              "      <td>74</td>\n",
              "      <td>162</td>\n",
              "      <td>3.43</td>\n",
              "      <td>2014-03-03</td>\n",
              "      <td>11</td>\n",
              "      <td>others</td>\n",
              "      <td>Maharashtra</td>\n",
              "    </tr>\n",
              "    <tr>\n",
              "      <th>3</th>\n",
              "      <td>111</td>\n",
              "      <td>74</td>\n",
              "      <td>162</td>\n",
              "      <td>3.43</td>\n",
              "      <td>2014-03-04</td>\n",
              "      <td>11</td>\n",
              "      <td>others</td>\n",
              "      <td>Maharashtra</td>\n",
              "    </tr>\n",
              "    <tr>\n",
              "      <th>4</th>\n",
              "      <td>111</td>\n",
              "      <td>74</td>\n",
              "      <td>162</td>\n",
              "      <td>3.43</td>\n",
              "      <td>2014-03-05</td>\n",
              "      <td>11</td>\n",
              "      <td>others</td>\n",
              "      <td>Maharashtra</td>\n",
              "    </tr>\n",
              "    <tr>\n",
              "      <th>...</th>\n",
              "      <td>...</td>\n",
              "      <td>...</td>\n",
              "      <td>...</td>\n",
              "      <td>...</td>\n",
              "      <td>...</td>\n",
              "      <td>...</td>\n",
              "      <td>...</td>\n",
              "      <td>...</td>\n",
              "    </tr>\n",
              "    <tr>\n",
              "      <th>15495</th>\n",
              "      <td>333</td>\n",
              "      <td>3008</td>\n",
              "      <td>166</td>\n",
              "      <td>1.98</td>\n",
              "      <td>2014-03-30</td>\n",
              "      <td>33</td>\n",
              "      <td>drinks_and_food</td>\n",
              "      <td>Kerala</td>\n",
              "    </tr>\n",
              "    <tr>\n",
              "      <th>15496</th>\n",
              "      <td>333</td>\n",
              "      <td>3008</td>\n",
              "      <td>166</td>\n",
              "      <td>1.98</td>\n",
              "      <td>2014-03-31</td>\n",
              "      <td>33</td>\n",
              "      <td>drinks_and_food</td>\n",
              "      <td>Kerala</td>\n",
              "    </tr>\n",
              "    <tr>\n",
              "      <th>15497</th>\n",
              "      <td>333</td>\n",
              "      <td>3021</td>\n",
              "      <td>166</td>\n",
              "      <td>2.08</td>\n",
              "      <td>2014-03-29</td>\n",
              "      <td>33</td>\n",
              "      <td>drinks_and_food</td>\n",
              "      <td>Kerala</td>\n",
              "    </tr>\n",
              "    <tr>\n",
              "      <th>15498</th>\n",
              "      <td>333</td>\n",
              "      <td>3021</td>\n",
              "      <td>166</td>\n",
              "      <td>2.08</td>\n",
              "      <td>2014-03-30</td>\n",
              "      <td>33</td>\n",
              "      <td>drinks_and_food</td>\n",
              "      <td>Kerala</td>\n",
              "    </tr>\n",
              "    <tr>\n",
              "      <th>15499</th>\n",
              "      <td>333</td>\n",
              "      <td>3021</td>\n",
              "      <td>166</td>\n",
              "      <td>2.08</td>\n",
              "      <td>2014-03-31</td>\n",
              "      <td>33</td>\n",
              "      <td>drinks_and_food</td>\n",
              "      <td>Kerala</td>\n",
              "    </tr>\n",
              "  </tbody>\n",
              "</table>\n",
              "<p>15500 rows × 8 columns</p>\n",
              "</div>"
            ],
            "text/plain": [
              "       outlet  product_identifier  week_id  sell_price        date  \\\n",
              "0         111                  74      162        3.43  2014-03-01   \n",
              "1         111                  74      162        3.43  2014-03-02   \n",
              "2         111                  74      162        3.43  2014-03-03   \n",
              "3         111                  74      162        3.43  2014-03-04   \n",
              "4         111                  74      162        3.43  2014-03-05   \n",
              "...       ...                 ...      ...         ...         ...   \n",
              "15495     333                3008      166        1.98  2014-03-30   \n",
              "15496     333                3008      166        1.98  2014-03-31   \n",
              "15497     333                3021      166        2.08  2014-03-29   \n",
              "15498     333                3021      166        2.08  2014-03-30   \n",
              "15499     333                3021      166        2.08  2014-03-31   \n",
              "\n",
              "       department_identifier category_of_product        state  \n",
              "0                         11              others  Maharashtra  \n",
              "1                         11              others  Maharashtra  \n",
              "2                         11              others  Maharashtra  \n",
              "3                         11              others  Maharashtra  \n",
              "4                         11              others  Maharashtra  \n",
              "...                      ...                 ...          ...  \n",
              "15495                     33     drinks_and_food       Kerala  \n",
              "15496                     33     drinks_and_food       Kerala  \n",
              "15497                     33     drinks_and_food       Kerala  \n",
              "15498                     33     drinks_and_food       Kerala  \n",
              "15499                     33     drinks_and_food       Kerala  \n",
              "\n",
              "[15500 rows x 8 columns]"
            ]
          },
          "execution_count": 29,
          "metadata": {},
          "output_type": "execute_result"
        }
      ],
      "source": [
        "test_data_merge.drop(['id'],axis=1)"
      ]
    },
    {
      "cell_type": "code",
      "execution_count": null,
      "metadata": {
        "colab": {
          "base_uri": "https://localhost:8080/",
          "height": 423
        },
        "id": "VIuXjbDrui2k",
        "outputId": "8f130357-d1dd-4556-ebfe-1453f50c200e"
      },
      "outputs": [
        {
          "data": {
            "text/html": [
              "<div>\n",
              "<style scoped>\n",
              "    .dataframe tbody tr th:only-of-type {\n",
              "        vertical-align: middle;\n",
              "    }\n",
              "\n",
              "    .dataframe tbody tr th {\n",
              "        vertical-align: top;\n",
              "    }\n",
              "\n",
              "    .dataframe thead th {\n",
              "        text-align: right;\n",
              "    }\n",
              "</style>\n",
              "<table border=\"1\" class=\"dataframe\">\n",
              "  <thead>\n",
              "    <tr style=\"text-align: right;\">\n",
              "      <th></th>\n",
              "      <th>outlet</th>\n",
              "      <th>product_identifier</th>\n",
              "      <th>week_id</th>\n",
              "      <th>sell_price</th>\n",
              "      <th>date</th>\n",
              "      <th>department_identifier</th>\n",
              "      <th>category_of_product</th>\n",
              "      <th>state</th>\n",
              "    </tr>\n",
              "  </thead>\n",
              "  <tbody>\n",
              "    <tr>\n",
              "      <th>0</th>\n",
              "      <td>111</td>\n",
              "      <td>74</td>\n",
              "      <td>162</td>\n",
              "      <td>3.43</td>\n",
              "      <td>2014-03-01</td>\n",
              "      <td>11</td>\n",
              "      <td>others</td>\n",
              "      <td>Maharashtra</td>\n",
              "    </tr>\n",
              "    <tr>\n",
              "      <th>1</th>\n",
              "      <td>111</td>\n",
              "      <td>74</td>\n",
              "      <td>162</td>\n",
              "      <td>3.43</td>\n",
              "      <td>2014-03-02</td>\n",
              "      <td>11</td>\n",
              "      <td>others</td>\n",
              "      <td>Maharashtra</td>\n",
              "    </tr>\n",
              "    <tr>\n",
              "      <th>2</th>\n",
              "      <td>111</td>\n",
              "      <td>74</td>\n",
              "      <td>162</td>\n",
              "      <td>3.43</td>\n",
              "      <td>2014-03-03</td>\n",
              "      <td>11</td>\n",
              "      <td>others</td>\n",
              "      <td>Maharashtra</td>\n",
              "    </tr>\n",
              "    <tr>\n",
              "      <th>3</th>\n",
              "      <td>111</td>\n",
              "      <td>74</td>\n",
              "      <td>162</td>\n",
              "      <td>3.43</td>\n",
              "      <td>2014-03-04</td>\n",
              "      <td>11</td>\n",
              "      <td>others</td>\n",
              "      <td>Maharashtra</td>\n",
              "    </tr>\n",
              "    <tr>\n",
              "      <th>4</th>\n",
              "      <td>111</td>\n",
              "      <td>74</td>\n",
              "      <td>162</td>\n",
              "      <td>3.43</td>\n",
              "      <td>2014-03-05</td>\n",
              "      <td>11</td>\n",
              "      <td>others</td>\n",
              "      <td>Maharashtra</td>\n",
              "    </tr>\n",
              "    <tr>\n",
              "      <th>...</th>\n",
              "      <td>...</td>\n",
              "      <td>...</td>\n",
              "      <td>...</td>\n",
              "      <td>...</td>\n",
              "      <td>...</td>\n",
              "      <td>...</td>\n",
              "      <td>...</td>\n",
              "      <td>...</td>\n",
              "    </tr>\n",
              "    <tr>\n",
              "      <th>15495</th>\n",
              "      <td>333</td>\n",
              "      <td>3008</td>\n",
              "      <td>166</td>\n",
              "      <td>1.98</td>\n",
              "      <td>2014-03-30</td>\n",
              "      <td>33</td>\n",
              "      <td>drinks_and_food</td>\n",
              "      <td>Kerala</td>\n",
              "    </tr>\n",
              "    <tr>\n",
              "      <th>15496</th>\n",
              "      <td>333</td>\n",
              "      <td>3008</td>\n",
              "      <td>166</td>\n",
              "      <td>1.98</td>\n",
              "      <td>2014-03-31</td>\n",
              "      <td>33</td>\n",
              "      <td>drinks_and_food</td>\n",
              "      <td>Kerala</td>\n",
              "    </tr>\n",
              "    <tr>\n",
              "      <th>15497</th>\n",
              "      <td>333</td>\n",
              "      <td>3021</td>\n",
              "      <td>166</td>\n",
              "      <td>2.08</td>\n",
              "      <td>2014-03-29</td>\n",
              "      <td>33</td>\n",
              "      <td>drinks_and_food</td>\n",
              "      <td>Kerala</td>\n",
              "    </tr>\n",
              "    <tr>\n",
              "      <th>15498</th>\n",
              "      <td>333</td>\n",
              "      <td>3021</td>\n",
              "      <td>166</td>\n",
              "      <td>2.08</td>\n",
              "      <td>2014-03-30</td>\n",
              "      <td>33</td>\n",
              "      <td>drinks_and_food</td>\n",
              "      <td>Kerala</td>\n",
              "    </tr>\n",
              "    <tr>\n",
              "      <th>15499</th>\n",
              "      <td>333</td>\n",
              "      <td>3021</td>\n",
              "      <td>166</td>\n",
              "      <td>2.08</td>\n",
              "      <td>2014-03-31</td>\n",
              "      <td>33</td>\n",
              "      <td>drinks_and_food</td>\n",
              "      <td>Kerala</td>\n",
              "    </tr>\n",
              "  </tbody>\n",
              "</table>\n",
              "<p>15500 rows × 8 columns</p>\n",
              "</div>"
            ],
            "text/plain": [
              "       outlet  product_identifier  week_id  sell_price        date  \\\n",
              "0         111                  74      162        3.43  2014-03-01   \n",
              "1         111                  74      162        3.43  2014-03-02   \n",
              "2         111                  74      162        3.43  2014-03-03   \n",
              "3         111                  74      162        3.43  2014-03-04   \n",
              "4         111                  74      162        3.43  2014-03-05   \n",
              "...       ...                 ...      ...         ...         ...   \n",
              "15495     333                3008      166        1.98  2014-03-30   \n",
              "15496     333                3008      166        1.98  2014-03-31   \n",
              "15497     333                3021      166        2.08  2014-03-29   \n",
              "15498     333                3021      166        2.08  2014-03-30   \n",
              "15499     333                3021      166        2.08  2014-03-31   \n",
              "\n",
              "       department_identifier category_of_product        state  \n",
              "0                         11              others  Maharashtra  \n",
              "1                         11              others  Maharashtra  \n",
              "2                         11              others  Maharashtra  \n",
              "3                         11              others  Maharashtra  \n",
              "4                         11              others  Maharashtra  \n",
              "...                      ...                 ...          ...  \n",
              "15495                     33     drinks_and_food       Kerala  \n",
              "15496                     33     drinks_and_food       Kerala  \n",
              "15497                     33     drinks_and_food       Kerala  \n",
              "15498                     33     drinks_and_food       Kerala  \n",
              "15499                     33     drinks_and_food       Kerala  \n",
              "\n",
              "[15500 rows x 8 columns]"
            ]
          },
          "execution_count": 30,
          "metadata": {},
          "output_type": "execute_result"
        }
      ],
      "source": [
        "test_data_merge.drop(['id'],axis=1) "
      ]
    },
    {
      "cell_type": "code",
      "execution_count": null,
      "metadata": {
        "colab": {
          "base_uri": "https://localhost:8080/"
        },
        "id": "_dQwTdj0urXZ",
        "outputId": "452d69a0-a237-4432-c54c-ec3788b1afd4"
      },
      "outputs": [
        {
          "data": {
            "text/plain": [
              "outlet                   0\n",
              "product_identifier       0\n",
              "week_id                  0\n",
              "sell_price               0\n",
              "date                     0\n",
              "department_identifier    0\n",
              "category_of_product      0\n",
              "state                    0\n",
              "sales                    0\n",
              "dtype: int64"
            ]
          },
          "execution_count": 31,
          "metadata": {},
          "output_type": "execute_result"
        }
      ],
      "source": [
        "train_data_merge.isna().sum()"
      ]
    },
    {
      "cell_type": "code",
      "execution_count": null,
      "metadata": {
        "colab": {
          "base_uri": "https://localhost:8080/"
        },
        "id": "ooiBpkrruvQ9",
        "outputId": "404ee8ff-6ef4-4b22-9fdc-bbf83d4aaf40"
      },
      "outputs": [
        {
          "data": {
            "text/plain": [
              "outlet                   0\n",
              "product_identifier       0\n",
              "week_id                  0\n",
              "sell_price               0\n",
              "date                     0\n",
              "id                       0\n",
              "department_identifier    0\n",
              "category_of_product      0\n",
              "state                    0\n",
              "dtype: int64"
            ]
          },
          "execution_count": 32,
          "metadata": {},
          "output_type": "execute_result"
        }
      ],
      "source": [
        "test_data_merge.isna().sum()"
      ]
    },
    {
      "cell_type": "code",
      "execution_count": null,
      "metadata": {
        "id": "VNox7zBYuzPz"
      },
      "outputs": [],
      "source": [
        "x_train=train_data_merge.drop(['sales'],axis=1)\n",
        "y_train=train_data_merge['sales'] "
      ]
    },
    {
      "cell_type": "code",
      "execution_count": null,
      "metadata": {
        "id": "IQLagN2Yu4IZ"
      },
      "outputs": [],
      "source": [
        "test_data_merge['sales']=train_data_merge['sales'] "
      ]
    },
    {
      "cell_type": "code",
      "execution_count": null,
      "metadata": {
        "colab": {
          "base_uri": "https://localhost:8080/",
          "height": 206
        },
        "id": "Q_B3BIX6u9iW",
        "outputId": "8f9efa6e-913c-4ba6-90e8-1fb555673de0"
      },
      "outputs": [
        {
          "data": {
            "text/html": [
              "<div>\n",
              "<style scoped>\n",
              "    .dataframe tbody tr th:only-of-type {\n",
              "        vertical-align: middle;\n",
              "    }\n",
              "\n",
              "    .dataframe tbody tr th {\n",
              "        vertical-align: top;\n",
              "    }\n",
              "\n",
              "    .dataframe thead th {\n",
              "        text-align: right;\n",
              "    }\n",
              "</style>\n",
              "<table border=\"1\" class=\"dataframe\">\n",
              "  <thead>\n",
              "    <tr style=\"text-align: right;\">\n",
              "      <th></th>\n",
              "      <th>outlet</th>\n",
              "      <th>product_identifier</th>\n",
              "      <th>week_id</th>\n",
              "      <th>sell_price</th>\n",
              "      <th>date</th>\n",
              "      <th>department_identifier</th>\n",
              "      <th>category_of_product</th>\n",
              "      <th>state</th>\n",
              "    </tr>\n",
              "  </thead>\n",
              "  <tbody>\n",
              "    <tr>\n",
              "      <th>0</th>\n",
              "      <td>111</td>\n",
              "      <td>74</td>\n",
              "      <td>49</td>\n",
              "      <td>2.94</td>\n",
              "      <td>2012-01-01</td>\n",
              "      <td>11</td>\n",
              "      <td>others</td>\n",
              "      <td>Maharashtra</td>\n",
              "    </tr>\n",
              "    <tr>\n",
              "      <th>1</th>\n",
              "      <td>111</td>\n",
              "      <td>74</td>\n",
              "      <td>49</td>\n",
              "      <td>2.94</td>\n",
              "      <td>2012-01-02</td>\n",
              "      <td>11</td>\n",
              "      <td>others</td>\n",
              "      <td>Maharashtra</td>\n",
              "    </tr>\n",
              "    <tr>\n",
              "      <th>2</th>\n",
              "      <td>111</td>\n",
              "      <td>74</td>\n",
              "      <td>49</td>\n",
              "      <td>2.94</td>\n",
              "      <td>2012-01-03</td>\n",
              "      <td>11</td>\n",
              "      <td>others</td>\n",
              "      <td>Maharashtra</td>\n",
              "    </tr>\n",
              "    <tr>\n",
              "      <th>3</th>\n",
              "      <td>111</td>\n",
              "      <td>74</td>\n",
              "      <td>49</td>\n",
              "      <td>2.94</td>\n",
              "      <td>2012-01-04</td>\n",
              "      <td>11</td>\n",
              "      <td>others</td>\n",
              "      <td>Maharashtra</td>\n",
              "    </tr>\n",
              "    <tr>\n",
              "      <th>4</th>\n",
              "      <td>111</td>\n",
              "      <td>74</td>\n",
              "      <td>49</td>\n",
              "      <td>2.94</td>\n",
              "      <td>2012-01-05</td>\n",
              "      <td>11</td>\n",
              "      <td>others</td>\n",
              "      <td>Maharashtra</td>\n",
              "    </tr>\n",
              "  </tbody>\n",
              "</table>\n",
              "</div>"
            ],
            "text/plain": [
              "   outlet  product_identifier  week_id  sell_price        date  \\\n",
              "0     111                  74       49        2.94  2012-01-01   \n",
              "1     111                  74       49        2.94  2012-01-02   \n",
              "2     111                  74       49        2.94  2012-01-03   \n",
              "3     111                  74       49        2.94  2012-01-04   \n",
              "4     111                  74       49        2.94  2012-01-05   \n",
              "\n",
              "   department_identifier category_of_product        state  \n",
              "0                     11              others  Maharashtra  \n",
              "1                     11              others  Maharashtra  \n",
              "2                     11              others  Maharashtra  \n",
              "3                     11              others  Maharashtra  \n",
              "4                     11              others  Maharashtra  "
            ]
          },
          "execution_count": 35,
          "metadata": {},
          "output_type": "execute_result"
        }
      ],
      "source": [
        "x_train.head()  "
      ]
    },
    {
      "cell_type": "code",
      "execution_count": null,
      "metadata": {
        "colab": {
          "base_uri": "https://localhost:8080/",
          "height": 206
        },
        "id": "WdnjqTzMvABc",
        "outputId": "81f60ab5-8b45-4291-d1f0-ed8024fe0dfd"
      },
      "outputs": [
        {
          "data": {
            "text/html": [
              "<div>\n",
              "<style scoped>\n",
              "    .dataframe tbody tr th:only-of-type {\n",
              "        vertical-align: middle;\n",
              "    }\n",
              "\n",
              "    .dataframe tbody tr th {\n",
              "        vertical-align: top;\n",
              "    }\n",
              "\n",
              "    .dataframe thead th {\n",
              "        text-align: right;\n",
              "    }\n",
              "</style>\n",
              "<table border=\"1\" class=\"dataframe\">\n",
              "  <thead>\n",
              "    <tr style=\"text-align: right;\">\n",
              "      <th></th>\n",
              "      <th>outlet</th>\n",
              "      <th>product_identifier</th>\n",
              "      <th>week_id</th>\n",
              "      <th>sell_price</th>\n",
              "      <th>date</th>\n",
              "      <th>id</th>\n",
              "      <th>department_identifier</th>\n",
              "      <th>category_of_product</th>\n",
              "      <th>state</th>\n",
              "      <th>sales</th>\n",
              "    </tr>\n",
              "  </thead>\n",
              "  <tbody>\n",
              "    <tr>\n",
              "      <th>0</th>\n",
              "      <td>111</td>\n",
              "      <td>74</td>\n",
              "      <td>162</td>\n",
              "      <td>3.43</td>\n",
              "      <td>2014-03-01</td>\n",
              "      <td>1</td>\n",
              "      <td>11</td>\n",
              "      <td>others</td>\n",
              "      <td>Maharashtra</td>\n",
              "      <td>0</td>\n",
              "    </tr>\n",
              "    <tr>\n",
              "      <th>1</th>\n",
              "      <td>111</td>\n",
              "      <td>74</td>\n",
              "      <td>162</td>\n",
              "      <td>3.43</td>\n",
              "      <td>2014-03-02</td>\n",
              "      <td>501</td>\n",
              "      <td>11</td>\n",
              "      <td>others</td>\n",
              "      <td>Maharashtra</td>\n",
              "      <td>0</td>\n",
              "    </tr>\n",
              "    <tr>\n",
              "      <th>2</th>\n",
              "      <td>111</td>\n",
              "      <td>74</td>\n",
              "      <td>162</td>\n",
              "      <td>3.43</td>\n",
              "      <td>2014-03-03</td>\n",
              "      <td>1001</td>\n",
              "      <td>11</td>\n",
              "      <td>others</td>\n",
              "      <td>Maharashtra</td>\n",
              "      <td>1</td>\n",
              "    </tr>\n",
              "    <tr>\n",
              "      <th>3</th>\n",
              "      <td>111</td>\n",
              "      <td>74</td>\n",
              "      <td>162</td>\n",
              "      <td>3.43</td>\n",
              "      <td>2014-03-04</td>\n",
              "      <td>1501</td>\n",
              "      <td>11</td>\n",
              "      <td>others</td>\n",
              "      <td>Maharashtra</td>\n",
              "      <td>0</td>\n",
              "    </tr>\n",
              "    <tr>\n",
              "      <th>4</th>\n",
              "      <td>111</td>\n",
              "      <td>74</td>\n",
              "      <td>162</td>\n",
              "      <td>3.43</td>\n",
              "      <td>2014-03-05</td>\n",
              "      <td>2001</td>\n",
              "      <td>11</td>\n",
              "      <td>others</td>\n",
              "      <td>Maharashtra</td>\n",
              "      <td>0</td>\n",
              "    </tr>\n",
              "  </tbody>\n",
              "</table>\n",
              "</div>"
            ],
            "text/plain": [
              "   outlet  product_identifier  week_id  sell_price        date    id  \\\n",
              "0     111                  74      162        3.43  2014-03-01     1   \n",
              "1     111                  74      162        3.43  2014-03-02   501   \n",
              "2     111                  74      162        3.43  2014-03-03  1001   \n",
              "3     111                  74      162        3.43  2014-03-04  1501   \n",
              "4     111                  74      162        3.43  2014-03-05  2001   \n",
              "\n",
              "   department_identifier category_of_product        state  sales  \n",
              "0                     11              others  Maharashtra      0  \n",
              "1                     11              others  Maharashtra      0  \n",
              "2                     11              others  Maharashtra      1  \n",
              "3                     11              others  Maharashtra      0  \n",
              "4                     11              others  Maharashtra      0  "
            ]
          },
          "execution_count": 36,
          "metadata": {},
          "output_type": "execute_result"
        }
      ],
      "source": [
        "test_data_merge.head()"
      ]
    },
    {
      "cell_type": "code",
      "execution_count": null,
      "metadata": {
        "id": "v_tFW10NvCGO"
      },
      "outputs": [],
      "source": [
        "x_test=test_data_merge.drop(['sales'],axis=1)\n",
        "y_test=test_data_merge['sales'] "
      ]
    },
    {
      "cell_type": "code",
      "execution_count": null,
      "metadata": {
        "colab": {
          "base_uri": "https://localhost:8080/"
        },
        "id": "daWMg-mOvSsJ",
        "outputId": "2723b7cf-5538-4606-feaf-9d9709483b44"
      },
      "outputs": [
        {
          "data": {
            "text/plain": [
              "Index(['outlet', 'product_identifier', 'week_id', 'sell_price', 'date',\n",
              "       'department_identifier', 'category_of_product', 'state', 'sales'],\n",
              "      dtype='object')"
            ]
          },
          "execution_count": 38,
          "metadata": {},
          "output_type": "execute_result"
        }
      ],
      "source": [
        "train_data_merge.columns "
      ]
    },
    {
      "cell_type": "code",
      "execution_count": null,
      "metadata": {
        "id": "1Vn2EIVgvXKW"
      },
      "outputs": [],
      "source": [
        "## Dividing the categorical and numerical attributes:\n",
        "cat_cols=['category_of_product','state']\n",
        "num_cols=['month', 'product_identifier', 'department_identifier','outlet','sell_price'] "
      ]
    },
    {
      "cell_type": "code",
      "execution_count": null,
      "metadata": {
        "id": "KSf95GL1vbYa"
      },
      "outputs": [],
      "source": [
        "train_data_merge[cat_cols]=train_data_merge[cat_cols].astype('category')\n",
        "test_data_merge[cat_cols]=test_data_merge[cat_cols].astype('category') "
      ]
    },
    {
      "cell_type": "code",
      "execution_count": null,
      "metadata": {
        "colab": {
          "base_uri": "https://localhost:8080/"
        },
        "id": "PyvYcnnwvkok",
        "outputId": "291f3370-d287-48da-8e80-7eaeea16be3a"
      },
      "outputs": [
        {
          "name": "stdout",
          "output_type": "stream",
          "text": [
            "outlet                      int64\n",
            "product_identifier          int64\n",
            "week_id                     int64\n",
            "sell_price                float64\n",
            "date                       object\n",
            "department_identifier       int64\n",
            "category_of_product      category\n",
            "state                    category\n",
            "sales                       int64\n",
            "dtype: object\n"
          ]
        }
      ],
      "source": [
        "print(train_data_merge.dtypes)\n"
      ]
    },
    {
      "cell_type": "code",
      "execution_count": null,
      "metadata": {
        "colab": {
          "base_uri": "https://localhost:8080/"
        },
        "id": "h4PlLJH13ZkF",
        "outputId": "d618bc9b-884f-44ab-f4be-83112e28e931"
      },
      "outputs": [
        {
          "name": "stdout",
          "output_type": "stream",
          "text": [
            "outlet                      int64\n",
            "product_identifier          int64\n",
            "week_id                     int64\n",
            "sell_price                float64\n",
            "date                       object\n",
            "id                          int64\n",
            "department_identifier       int64\n",
            "category_of_product      category\n",
            "state                    category\n",
            "sales                       int64\n",
            "dtype: object\n"
          ]
        }
      ],
      "source": [
        "print(test_data_merge.dtypes) "
      ]
    },
    {
      "cell_type": "markdown",
      "metadata": {
        "id": "tsANtrfl3b5Y"
      },
      "source": [
        "## Converting the date to month:"
      ]
    },
    {
      "cell_type": "code",
      "execution_count": null,
      "metadata": {
        "id": "-ZKVzosHvogM"
      },
      "outputs": [],
      "source": [
        "train_data_merge['month']=pd.to_datetime(train_data_merge['date']).dt.month"
      ]
    },
    {
      "cell_type": "code",
      "execution_count": null,
      "metadata": {
        "id": "u9mo8ZfzwFBA"
      },
      "outputs": [],
      "source": [
        "test_data_merge['month']=pd.to_datetime(test_data_merge['date']).dt.month"
      ]
    },
    {
      "cell_type": "code",
      "execution_count": null,
      "metadata": {
        "colab": {
          "base_uri": "https://localhost:8080/"
        },
        "id": "sGwlXgGTwMJy",
        "outputId": "26d61a96-cb86-4bd1-e764-56a4e17d1d6a"
      },
      "outputs": [
        {
          "data": {
            "text/plain": [
              "12"
            ]
          },
          "execution_count": 45,
          "metadata": {},
          "output_type": "execute_result"
        }
      ],
      "source": [
        "train_data_merge.month.nunique()"
      ]
    },
    {
      "cell_type": "code",
      "execution_count": null,
      "metadata": {
        "colab": {
          "base_uri": "https://localhost:8080/"
        },
        "id": "EHSqEwttwRTr",
        "outputId": "268b4f64-923d-45ad-9a71-112b32726746"
      },
      "outputs": [
        {
          "data": {
            "text/plain": [
              "outlet                      int64\n",
              "product_identifier          int64\n",
              "week_id                     int64\n",
              "sell_price                float64\n",
              "date                       object\n",
              "department_identifier       int64\n",
              "category_of_product      category\n",
              "state                    category\n",
              "sales                       int64\n",
              "month                       int64\n",
              "dtype: object"
            ]
          },
          "execution_count": 46,
          "metadata": {},
          "output_type": "execute_result"
        }
      ],
      "source": [
        "train_data_merge.dtypes"
      ]
    },
    {
      "cell_type": "markdown",
      "metadata": {
        "id": "jR8HrsrR3wc8"
      },
      "source": [
        "## Updating the train_data_merge by droping date and week_id:\n",
        ":"
      ]
    },
    {
      "cell_type": "code",
      "execution_count": null,
      "metadata": {
        "id": "bpL1Ak8rwUgf"
      },
      "outputs": [],
      "source": [
        "updated_train_merge=train_data_merge.drop(['date','week_id'],axis=1) "
      ]
    },
    {
      "cell_type": "code",
      "execution_count": null,
      "metadata": {
        "id": "Td3lc9xAwhes"
      },
      "outputs": [],
      "source": [
        "updated_test_merge=test_data_merge.drop(['date','week_id','id'],axis=1)"
      ]
    },
    {
      "cell_type": "markdown",
      "metadata": {
        "id": "1XjR0U333-XB"
      },
      "source": [
        "## Assigning the updated data to the x_train and y_train:"
      ]
    },
    {
      "cell_type": "code",
      "execution_count": null,
      "metadata": {
        "id": "eQC1ps5Zwp9T"
      },
      "outputs": [],
      "source": [
        "x_train=updated_train_merge.drop(['sales'],axis=1)\n",
        "y_train=updated_train_merge['sales']"
      ]
    },
    {
      "cell_type": "code",
      "execution_count": null,
      "metadata": {
        "id": "FABRAHVDwvfY"
      },
      "outputs": [],
      "source": [
        "x_test=updated_test_merge.drop(['sales'],axis=1)\n",
        "y_test=updated_test_merge['sales']"
      ]
    },
    {
      "cell_type": "markdown",
      "metadata": {
        "id": "KnqMReV04Ogf"
      },
      "source": [
        "## Convertion of categorical attributes:"
      ]
    },
    {
      "cell_type": "code",
      "execution_count": null,
      "metadata": {
        "id": "y0TAMq6jxD2z"
      },
      "outputs": [],
      "source": [
        "from sklearn.preprocessing import OneHotEncoder\n",
        "ohe=OneHotEncoder()\n",
        "ohe.fit(x_train[cat_cols])\n",
        "x_train_ohe=ohe.transform(x_train[cat_cols]).toarray()\n",
        "\n",
        "\n",
        "ohe.fit(x_test[cat_cols])\n",
        "x_test_ohe=ohe.transform(x_test[cat_cols]).toarray() "
      ]
    },
    {
      "cell_type": "code",
      "execution_count": null,
      "metadata": {
        "id": "NGIfuDxMxF9t"
      },
      "outputs": [],
      "source": [
        "from sklearn.preprocessing import StandardScaler\n",
        "scaler=StandardScaler()\n",
        "scaler.fit(x_train[num_cols])\n",
        "x_train_ss=scaler.transform(x_train[num_cols])\n",
        "\n",
        "scaler.fit(x_test[num_cols])\n",
        "x_test_ss=scaler.transform(x_test[num_cols])"
      ]
    },
    {
      "cell_type": "markdown",
      "metadata": {
        "id": "Fq1ZUCD64Yw4"
      },
      "source": [
        "## Concatenating scaled and ohe output data:"
      ]
    },
    {
      "cell_type": "code",
      "execution_count": null,
      "metadata": {
        "id": "0NH6qe1XxICo"
      },
      "outputs": [],
      "source": [
        "x_train=np.concatenate([x_train_ohe,x_train_ss],axis=1) \n",
        "x_test=np.concatenate([x_test_ohe,x_test_ss],axis=1) "
      ]
    }
  ],
  "metadata": {
    "colab": {
      "provenance": []
    },
    "kernelspec": {
      "display_name": "Python 3 (ipykernel)",
      "language": "python",
      "name": "python3"
    },
    "language_info": {
      "codemirror_mode": {
        "name": "ipython",
        "version": 3
      },
      "file_extension": ".py",
      "mimetype": "text/x-python",
      "name": "python",
      "nbconvert_exporter": "python",
      "pygments_lexer": "ipython3",
      "version": "3.9.7"
    }
  },
  "nbformat": 4,
  "nbformat_minor": 0
}